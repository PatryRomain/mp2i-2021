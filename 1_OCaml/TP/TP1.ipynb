{
 "cells": [
  {
   "cell_type": "markdown",
   "id": "4ef1c104",
   "metadata": {},
   "source": [
    "# TP1 : Types, variables, fonctions"
   ]
  },
  {
   "cell_type": "markdown",
   "id": "becd8118",
   "metadata": {},
   "source": [
    "## Types\n",
    "\n",
    "Devinez le type des fonctions suivantes et vérifier avec OCaml :\n",
    "```ocaml\n",
    "let f x y = x**y\n",
    "```\n",
    "```ocaml\n",
    "let g x y = x (y + 1)\n",
    "```\n",
    "```ocaml\n",
    "let h x y z = x (3. *. (y z)) + 1\n",
    "```\n",
    "Puis tester ces fonctions sur des arguments de votre choix."
   ]
  },
  {
   "cell_type": "code",
   "execution_count": 1,
   "id": "0891e767-3392-4cf1-bca1-ed00c40e12c3",
   "metadata": {},
   "outputs": [],
   "source": [
    "(*\n",
    " TP 1 :\n",
    " 1)\n",
    " fonction 1 : doit renvoyer Float -> Float\n",
    " fonction 2 : doit renvoyer (Int -> a')-> Int -> a'\n",
    " fonction 3 : doit renvoyer (Float -> Int) -> (a'-> Float) -> a' -> Float -> Int\n",
    "*)"
   ]
  },
  {
   "cell_type": "code",
   "execution_count": 2,
   "id": "af471a31-f8d5-4fd6-a96e-8d3c7553df68",
   "metadata": {},
   "outputs": [
    {
     "data": {
      "text/plain": [
       "val f : float -> float -> float = <fun>\n"
      ]
     },
     "execution_count": 2,
     "metadata": {},
     "output_type": "execute_result"
    },
    {
     "data": {
      "text/plain": [
       "val g : (int -> 'a) -> int -> 'a = <fun>\n"
      ]
     },
     "execution_count": 2,
     "metadata": {},
     "output_type": "execute_result"
    },
    {
     "data": {
      "text/plain": [
       "val h : (float -> int) -> ('a -> float) -> 'a -> int = <fun>\n"
      ]
     },
     "execution_count": 2,
     "metadata": {},
     "output_type": "execute_result"
    }
   ],
   "source": [
    "(* On vérifie : *)\n",
    "let f x y = x**y ;;\n",
    "let g x y = x (y + 1);;\n",
    "let h x y z = x (3. *. (y z)) + 1;;"
   ]
  },
  {
   "cell_type": "code",
   "execution_count": 3,
   "id": "7257460c-e9d9-4791-ac17-c339e54c6b87",
   "metadata": {},
   "outputs": [
    {
     "data": {
      "text/plain": [
       "- : float = 4.\n"
      ]
     },
     "execution_count": 3,
     "metadata": {},
     "output_type": "execute_result"
    },
    {
     "data": {
      "text/plain": [
       "- : int = 4\n"
      ]
     },
     "execution_count": 3,
     "metadata": {},
     "output_type": "execute_result"
    },
    {
     "data": {
      "text/plain": [
       "- : int = 3\n"
      ]
     },
     "execution_count": 3,
     "metadata": {},
     "output_type": "execute_result"
    }
   ],
   "source": [
    "(* On test ces fonctions*)\n",
    "f 2. 2.;;\n",
    "g (fun x -> 1+x) 2 ;;\n",
    "h (fun x -> 2) (fun y -> 2.) 1;;"
   ]
  },
  {
   "cell_type": "markdown",
   "id": "23e9b523",
   "metadata": {},
   "source": [
    "## Tangente hyperbolique\n",
    "\n",
    "Définir en OCaml la fonction $\\tanh : x \\longmapsto \\frac{e^x - e^{-x}}{e^x + e^{-x}}$ en utilisant un seul appel à la fonction `exp : float -> float` de OCaml."
   ]
  },
  {
   "cell_type": "code",
   "execution_count": 4,
   "id": "fcbe9fc3-982c-425f-8242-126338c6b072",
   "metadata": {},
   "outputs": [
    {
     "data": {
      "text/plain": [
       "val tanh2 : float -> float = <fun>\n"
      ]
     },
     "execution_count": 4,
     "metadata": {},
     "output_type": "execute_result"
    }
   ],
   "source": [
    "(* Ex 2 *)\n",
    "let tanh2 x = \n",
    "    let ex = exp x in\n",
    "    (ex -. ex ** -1.) /. (ex +. ex ** -1.)"
   ]
  },
  {
   "cell_type": "code",
   "execution_count": 5,
   "id": "e3c3a72e-32fa-46a5-be96-9f61dcc354aa",
   "metadata": {},
   "outputs": [
    {
     "data": {
      "text/plain": [
       "- : float = 0.761594155955764851\n"
      ]
     },
     "execution_count": 5,
     "metadata": {},
     "output_type": "execute_result"
    },
    {
     "data": {
      "text/plain": [
       "- : float = 0.761594155955764851\n"
      ]
     },
     "execution_count": 5,
     "metadata": {},
     "output_type": "execute_result"
    }
   ],
   "source": [
    "tanh 1.;;\n",
    "tanh2 1.;;\n"
   ]
  },
  {
   "cell_type": "markdown",
   "id": "74da135f",
   "metadata": {},
   "source": [
    "## Géométrie\n",
    "\n",
    "Le type `float*float` désigne un couple de flottant, représentant un point `p` dans $\\mathbb{R}^2$. On peut récupérer les coordonnées de `p` avec `let x, y = p` . Par exemple :"
   ]
  },
  {
   "cell_type": "code",
   "execution_count": 6,
   "id": "7073f5d1",
   "metadata": {},
   "outputs": [
    {
     "data": {
      "text/plain": [
       "- : float = 2.1\n"
      ]
     },
     "execution_count": 6,
     "metadata": {},
     "output_type": "execute_result"
    }
   ],
   "source": [
    "let p = (2.1, 3.7) in (* exemple de point *)\n",
    "let x, y = p in (* récupération des coordonnées *)\n",
    "x;; (* affichage de x *)"
   ]
  },
  {
   "cell_type": "markdown",
   "id": "898ce016",
   "metadata": {},
   "source": [
    "**Exercice** Écrire une fonction `aire_boule : float -> float` telle que `aire_boule r` renvoie l'aire d'une boule (disque en dimension 3) de rayon `r`, c'est à dire $\\frac{4 \\pi r^3}{3}$. On pourra utiliser `Float.pi`."
   ]
  },
  {
   "cell_type": "code",
   "execution_count": 7,
   "id": "7f22591f-7351-4ea4-a7fb-f4ea904b2a35",
   "metadata": {},
   "outputs": [
    {
     "data": {
      "text/plain": [
       "- : float = 4.18879020478639053\n"
      ]
     },
     "execution_count": 7,
     "metadata": {},
     "output_type": "execute_result"
    },
    {
     "data": {
      "text/plain": [
       "- : float = 4.18879020478639053\n"
      ]
     },
     "execution_count": 7,
     "metadata": {},
     "output_type": "execute_result"
    }
   ],
   "source": [
    "(* Géométrie : Ex 1 *)\n",
    "let aire_boule r =\n",
    "    4./.3.*.r**3.*.Float.pi in\n",
    "(* test *)\n",
    "aire_boule 1.;;\n",
    "(4.*.(Float.pi)*.(1.**3.))/.3."
   ]
  },
  {
   "cell_type": "markdown",
   "id": "18817317",
   "metadata": {},
   "source": [
    "**Exercice** Écrire une fonction `distance : float*float -> float*float -> float` telle que `distance p1 p2` renvoie la distance euclidienne entre les points `p1` et `p2`.  \n",
    "Vérifier que la distance entre $(0, 0)$ et $(1, 1)$ est (approximativement) $\\sqrt{2}$."
   ]
  },
  {
   "cell_type": "code",
   "execution_count": 8,
   "id": "e599f7ff-b2f6-4695-a53f-896489cd277f",
   "metadata": {},
   "outputs": [
    {
     "data": {
      "text/plain": [
       "val distance : float * float -> float * float -> float = <fun>\n"
      ]
     },
     "execution_count": 8,
     "metadata": {},
     "output_type": "execute_result"
    },
    {
     "data": {
      "text/plain": [
       "- : float = 1.41421356237309515\n"
      ]
     },
     "execution_count": 8,
     "metadata": {},
     "output_type": "execute_result"
    },
    {
     "data": {
      "text/plain": [
       "- : float = 1.41421356237309515\n"
      ]
     },
     "execution_count": 8,
     "metadata": {},
     "output_type": "execute_result"
    }
   ],
   "source": [
    "(* Geométrie : Ex 2 *)\n",
    "let distance (x1,y1) (x2,y2)=\n",
    "    ((x1-.x2)**2.+.(y1-.y2)**2.)**0.5\n",
    ";;\n",
    "(* test *)\n",
    "distance (0.,0.) (1.,1.);;\n",
    "2. ** 0.5 "
   ]
  },
  {
   "cell_type": "markdown",
   "id": "6be0092c",
   "metadata": {},
   "source": [
    "**Exercice** Écrire une fonction `polaire : float*float -> float*float` qui, étant donné les coordonnées polaires $(r, \\theta)$ d'un point, renvoie ses coordonnées cartésiennes $(x, y)$. On rappelle que $x = r\\cos(\\theta)$ et $y = r\\sin(\\theta)$. On pourra utiliser `cos` et `sin` en OCaml."
   ]
  },
  {
   "cell_type": "code",
   "execution_count": 9,
   "id": "610115da-7fe5-4f04-bfd8-853fc5f90858",
   "metadata": {},
   "outputs": [
    {
     "data": {
      "text/plain": [
       "val polaire : float * float -> float * float = <fun>\n"
      ]
     },
     "execution_count": 9,
     "metadata": {},
     "output_type": "execute_result"
    }
   ],
   "source": [
    "(* Géométrie : Ex 3 *)\n",
    "let polaire (r,theta) = \n",
    "    (r *. cos (theta), r *. sin (theta))"
   ]
  },
  {
   "cell_type": "markdown",
   "id": "2992c0fe",
   "metadata": {},
   "source": [
    "**Exercice** Écrire une fonction `milieu : float*float -> float*float -> float*float` telle que `milieu p1 p2` renvoie le milieu du segment d'extrémités `p1` et `p2`."
   ]
  },
  {
   "cell_type": "code",
   "execution_count": 10,
   "id": "e5f98bcf-60d9-48d3-abf3-fd23ee889ce1",
   "metadata": {},
   "outputs": [
    {
     "data": {
      "text/plain": [
       "val abs : float -> float -> float = <fun>\n"
      ]
     },
     "execution_count": 10,
     "metadata": {},
     "output_type": "execute_result"
    },
    {
     "data": {
      "text/plain": [
       "- : float * float = (0.5, 0.5)\n"
      ]
     },
     "execution_count": 10,
     "metadata": {},
     "output_type": "execute_result"
    }
   ],
   "source": [
    "(* Géométrie : Ex 4 *)\n",
    "(* On crée une fonction valeur absolue destinée aux float pour simplifier la fonction milieu *)\n",
    "let abs a b =\n",
    "    if a > b \n",
    "    then a -. b\n",
    "    else b -. a\n",
    ";;\n",
    "let milieu (x1,y1) (x2,y2) = \n",
    "    ((abs x1 x2)/.2. , (abs y1 y2)/.2.) \n",
    "in\n",
    "milieu (0.,0.) (1.,1.)"
   ]
  },
  {
   "cell_type": "markdown",
   "id": "b0d67dd4",
   "metadata": {},
   "source": [
    "**Exercice** Écrire une fonction `parallelogramme : float*float -> float*float -> float*float -> float*float -> bool` telle que `parallelogramme p1 p2 p3 p4` renvoie `true` si les points `p1`, `p1`, `p1`, `p1` forment un parallélogramme, c'est à dire si les côtés opposés sont (approximativement) de même longueur.  \n",
    "On fera attention à ne pas comparer 2 flottants avec `=`, mais regarder à la place si la différence est petite (< 0.001 par exemple)."
   ]
  },
  {
   "cell_type": "code",
   "execution_count": 11,
   "id": "46a4e515",
   "metadata": {
    "tags": []
   },
   "outputs": [
    {
     "data": {
      "text/plain": [
       "- : bool = true\n"
      ]
     },
     "execution_count": 11,
     "metadata": {},
     "output_type": "execute_result"
    }
   ],
   "source": [
    "(* Géométrie : Ex 5 *)\n",
    "let parallelogramme (x1,y1) (x2,y2) (x3,y3) (x4,y4) =\n",
    "(* On rappelle la fonction distance qui donne la distance (en float) d'après deux couples de float *)\n",
    "    let dif = ref (distance (x1,y1) (x2,y2) -. distance (x3,y3) (x4,y4)) in\n",
    "    !dif < 0.001 && !dif > -0.001\n",
    "in\n",
    "parallelogramme (0.,0.) (2.,0.) (2.,2.) (0.,2.)"
   ]
  },
  {
   "cell_type": "markdown",
   "id": "8a89d768",
   "metadata": {
    "tags": []
   },
   "source": [
    "## Congruence\n",
    "\n",
    "Le but de cet exercice est de calculer $1357^{2013}$ mod $5$ (mais la méthode utilisée s'applique dans un grande nombre d'exercices mathématiques).  \n",
    "On rappelle que les congruences sont compatibles avec la puissance :\n",
    "$$a \\equiv b [n] \\Longrightarrow a^k \\equiv b^k [n]$$\n",
    "\n",
    "1. Soit $k$ un entier positif. Que vaut $2^{4k}$ mod $5$? On pourra calculer des valeurs avec OCaml puis le démontrer mathématiquement.\n",
    "2. Que vaut $1357$ mod $5$? En déduire la valeur de $1357^{2013}$ mod $5$."
   ]
  },
  {
   "cell_type": "markdown",
   "id": "1920d900-474e-4eb7-b136-7e5118822c88",
   "metadata": {},
   "source": [
    "Congruence ex 1 :\n",
    "\n",
    "$2^{4k}$ mod $5$ = ($2^4$ mod $5$)$^k$ = $1^k$ = $1$ :"
   ]
  },
  {
   "cell_type": "code",
   "execution_count": 12,
   "id": "b7d4d492-7c02-41a5-84fd-b7d29bdfcf51",
   "metadata": {},
   "outputs": [
    {
     "data": {
      "text/plain": [
       "val a : int = 16\n"
      ]
     },
     "execution_count": 12,
     "metadata": {},
     "output_type": "execute_result"
    },
    {
     "data": {
      "text/plain": [
       "- : int = 1\n"
      ]
     },
     "execution_count": 12,
     "metadata": {},
     "output_type": "execute_result"
    },
    {
     "data": {
      "text/plain": [
       "val puissance_entier : int -> int -> int = <fun>\n"
      ]
     },
     "execution_count": 12,
     "metadata": {},
     "output_type": "execute_result"
    },
    {
     "data": {
      "text/plain": [
       "- : bool = true\n"
      ]
     },
     "execution_count": 12,
     "metadata": {},
     "output_type": "execute_result"
    }
   ],
   "source": [
    "(* Faisons un exemple avec k=9 *)\n",
    "let a = 2*2*2*2 ;; (* On définit 2^4 *)\n",
    "a mod 5 ;; (* On voit le reste d'une division euclidienne *)\n",
    "let rec puissance_entier num puissance = (*On fait une fonction pour garder les résultats de puissance des Int *)\n",
    "    if puissance = 0 then 1\n",
    "    else (num*(puissance_entier num (puissance-1))) ;;\n",
    "(puissance_entier a 9) mod 5 = ( puissance_entier(a mod 5) 9) mod 5 ;; (*on vérifie l'égalité çi-dessus *)\n"
   ]
  },
  {
   "cell_type": "markdown",
   "id": "21a27a61-a937-4dea-b329-2cd5b7c51255",
   "metadata": {},
   "source": [
    "En effet : $$ 2^4 \\equiv 1 [5] \\Longrightarrow 2^{4k} \\equiv 1^k [5] \\Longrightarrow 2^{4K} \\equiv  1 [5]$$"
   ]
  },
  {
   "cell_type": "code",
   "execution_count": 13,
   "id": "ab55507a-5177-4184-8912-a2543c7a5ae4",
   "metadata": {
    "tags": []
   },
   "outputs": [
    {
     "data": {
      "text/plain": [
       "val a : int = 1357\n"
      ]
     },
     "execution_count": 13,
     "metadata": {},
     "output_type": "execute_result"
    },
    {
     "data": {
      "text/plain": [
       "- : int = 2\n"
      ]
     },
     "execution_count": 13,
     "metadata": {},
     "output_type": "execute_result"
    },
    {
     "data": {
      "text/plain": [
       "val c : int = 0\n"
      ]
     },
     "execution_count": 13,
     "metadata": {},
     "output_type": "execute_result"
    }
   ],
   "source": [
    "(* Congruence : Ex 2 *)\n",
    "let a = 1357 ;;\n",
    "a mod 5 ;; (* On voit le reste d'une division euclidienne *)\n",
    "let c = ( puissance_entier(a mod 5) 2013) mod 5;; (*2^2013 est trop grand pour OCaml*)\n"
   ]
  },
  {
   "cell_type": "markdown",
   "id": "f9511779-a980-49e9-a7f5-d91e0ab728cc",
   "metadata": {},
   "source": [
    " $$ 1357 \\equiv 2 [5] \\Longrightarrow 1357^{2013} \\equiv 2^{2013} [5] \\Longrightarrow 1357^{2013} \\equiv  (2^{2013} mod5 )[5]$$\n",
    " Mathématiquement :  \n",
    " $$1357 \\equiv 2 [5] $$\n",
    " $$1357^{2} \\equiv 2^{2} [5] \\Longrightarrow 1357^{2} \\equiv  4[5]$$\n",
    " $$ 1357^3 \\equiv 2^3 [5] \\Longrightarrow 1357^{3} \\equiv 8 [5] \\Longrightarrow 1357^{3} \\equiv  3 [5]$$\n",
    " $$ 1357^4 \\equiv 2^4 [5] \\Longrightarrow 1357^{4} \\equiv 16 [5] \\Longrightarrow 1357^{4} \\equiv  1 [5]$$\n",
    " $$ 1357^5 \\equiv 2^5 [5] \\Longrightarrow 1357^{5} \\equiv 32 [5] \\Longrightarrow 1357^{5} \\equiv  2 [5]$$\n",
    "Un cycle de congruence de 2013 modulo n congrue à 5 a ainsi une durée de 5 donc :\n",
    "$$2013 \\equiv 3 [5] <=>  1357^{2013} \\equiv n [5] = 1357^{3} \\equiv  3 [5]$$"
   ]
  },
  {
   "cell_type": "code",
   "execution_count": 14,
   "id": "327ed529-1e4c-4ebd-83f7-b1f7417ea339",
   "metadata": {},
   "outputs": [
    {
     "data": {
      "text/plain": [
       "- : int = 3\n"
      ]
     },
     "execution_count": 14,
     "metadata": {},
     "output_type": "execute_result"
    }
   ],
   "source": [
    "(* Pour résoudre cela via un algorythme, on créer une fonction et une variable pour compter le nombre d'itération d'un cycle*)\n",
    "\n",
    "let i = ref 1 in\n",
    "\n",
    "let test reste diviseur =\n",
    "    i := (!i +1); \n",
    "    (puissance_entier reste !i ) mod diviseur;\n",
    "    (* la fonction retourne le reste d'une division euclidienne de (reste puissance le nombre d'itération) par le diviseur *)\n",
    "in\n",
    "let rec calcul_reste dividend diviseur puissance =\n",
    "    let a = dividend mod diviseur in (* On calcule le reste d'une division euclidienne du dividend par le diviseur sans ajouter les puissances *)\n",
    "    if a = (test a diviseur) (* on vérifie si le cycle est fini ou non *) \n",
    "    then \n",
    "        puissance_entier a (puissance mod !i)  mod diviseur \n",
    "    else\n",
    "        calcul_reste dividend diviseur puissance\n",
    "       \n",
    "in\n",
    "\n",
    "calcul_reste 1357 5 2013; \n"
   ]
  },
  {
   "cell_type": "markdown",
   "id": "60c42e47",
   "metadata": {},
   "source": [
    "## Nombres aléatoires\n",
    "\n",
    "`Random.int n` permet d'obtenir un entier uniformément au hasard entre 0 et `n - 1` (chacun de ces entiers a la même probabilité $\\frac{1}{n}$ d'être obtenu).  \n",
    "Dans cet exercice, on imagine que l'on possède comme seule source aléatoire un dé à 5 faces (c'est à dire que l'on a seulement le droit d'utiliser `Random.int 5`).\n",
    "\n",
    "1. Calculer `(Random.int 5) + (Random.int 5)` plusieurs fois. Est-ce que le résultat vous semble être un entier uniformément au hasard entre 0 et 8?  \n",
    "2. Quelle est la probabilité d'obtenir `0` avec `(Random.int 5) + (Random.int 5)`? D'obtenir `1`? Quelle est l'entier qui a le plus de chances d'apparaître?\n",
    "3. Comment générer uniformément un entier entre 0 et 24? (C'est à dire passer de 5 possibilités à 25)\n",
    "3. Comment générer uniformément un entier entre 0 et 6? Écrire une fonction pour le faire. On utilisera une méthode par rejection (rejection sampling) : générer dans un espace plus grand et regénérer si la valeur n'est pas dans l'intervalle souhaité.  \n",
    "Pour cela on utilisera une boucle while :\n",
    "```ocaml\n",
    "while ... do\n",
    "    ...\n",
    "done\n",
    "```"
   ]
  },
  {
   "cell_type": "code",
   "execution_count": 16,
   "id": "c06e7074",
   "metadata": {},
   "outputs": [
    {
     "data": {
      "text/plain": [
       "- : int = 4\n"
      ]
     },
     "execution_count": 16,
     "metadata": {},
     "output_type": "execute_result"
    }
   ],
   "source": [
    "(* Nombres aléatoires : Ex 1*)\n",
    "(Random.int 5) + (Random.int 5)\n",
    "(* Le résustat me semble être effectivement un entier uniformément au hasard entre 0 et 8. \n",
    "Mais d'après les calculs de la question 2, c'est une impression due à un trop petit nombre d'échantillon *)"
   ]
  },
  {
   "cell_type": "markdown",
   "id": "1dffd057-2861-4814-9d89-341254a9e696",
   "metadata": {},
   "source": [
    "Nombres aléaoires : Ex 2\n",
    "Soit P1(n) la probabilité d'obtenir n la somme de deux variables aléatoires compris entre 0 et 4 et P2(X) la probabilité d'obtenir X une variable aléatoire entre 0 et 4 : $$ $$\n",
    "La probabilité d'obtenir 0 :\n",
    "$$P1(0) = P2(0)\\times P2(0) = \\frac{1}{5}\\times\\frac{1}{5} = \\frac{1}{25}$$\n",
    "La probabilité d'obtenir 1 :\n",
    "$$P1(1) = 2\\times P2(0)\\times P2(1)=2\\times\\frac{1}{5}\\times\\frac{1}{5} = \\frac{2}{25}$$\n",
    "La probabilité d'obtenir 4 :\n",
    "$$P(4) = 2\\times P2(1)\\times P2(3) + P2(2)\\times P2(2) + 2\\times P2(0)\\times P2(4) $$\n",
    "$$2\\times\\frac{1}{5}\\times\\frac{1}{5}+\\frac{1}{5}\\times\\frac{1}{5}+2\\times\\frac{1}{5}\\times\\frac{1}{5}=\\frac{5}{25}= \\frac{1}{5}$$\n"
   ]
  },
  {
   "cell_type": "markdown",
   "id": "f22dff92-7e7e-4126-9872-3b78d76e9cbe",
   "metadata": {},
   "source": [
    "## Nombres aléatoires : Ex 3 \n",
    "Pour générer un nombre uniformément aléatoire entre 0 et 24, il faut que chaque nombre entre 0 et 25 est autant de chance d'être retourné.\n",
    "\n",
    "Ainsi il faudrait faire ajouter soit 0, soit 5, soit 10, soit 15, soit 20 à random.Int 5.\n",
    "\n",
    "Pour cela on utilisera de nouveau la fonction Random.Int 5 pour générer un nombre aléatoire compris entre 0 et 4 pour multiplier 5.\n",
    "\n",
    "Ainsi o obtiendrait Random.int 5 + 5 * Random.int 5"
   ]
  },
  {
   "cell_type": "code",
   "execution_count": 17,
   "id": "c637a177-5ea3-49ab-938c-411447d78cf0",
   "metadata": {},
   "outputs": [
    {
     "data": {
      "text/plain": [
       "- : int = 5\n"
      ]
     },
     "execution_count": 17,
     "metadata": {},
     "output_type": "execute_result"
    }
   ],
   "source": [
    "(* Nombres aléatoires : Ex 4 *)\n",
    "let nb = ref 0 in\n",
    "let rec generation_alea_unif n = (* On ajoute à Random.int un multiple de 5 définit par un autre Random.Int 5*) \n",
    "   nb := (Random.int 5) + (5 * Random.int 5);\n",
    "   while !nb > n do (* Ici on s'assure que le résultat est compris entre 0 et 6, relançant la fonction si ce n'est pas le cas *)\n",
    "   generation_alea_unif n \n",
    "   done\n",
    "in\n",
    "generation_alea_unif 6;\n",
    "!nb (*je n'arrive pas à mettre d'instruction après le done du while, donc je le retourne manuellement *) "
   ]
  }
 ],
 "metadata": {
  "kernelspec": {
   "display_name": "OCaml default",
   "language": "OCaml",
   "name": "ocaml-jupyter"
  },
  "language_info": {
   "codemirror_mode": "text/x-ocaml",
   "file_extension": ".ml",
   "mimetype": "text/x-ocaml",
   "name": "OCaml",
   "nbconverter_exporter": null,
   "pygments_lexer": "OCaml",
   "version": "4.08.1"
  }
 },
 "nbformat": 4,
 "nbformat_minor": 5
}

