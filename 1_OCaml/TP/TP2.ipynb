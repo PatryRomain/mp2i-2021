{
 "cells": [
  {
   "cell_type": "markdown",
   "id": "68f1c7f0",
   "metadata": {},
   "source": [
    "# TP 2 : récursivité et conditions\n",
    "\n",
    "Dans tout le TP, il est interdit d'utiliser des boucles (pas de `for` ni `while`)."
   ]
  },
  {
   "cell_type": "markdown",
   "id": "320c92e6",
   "metadata": {},
   "source": [
    "## Petites questions\n",
    "\n",
    "1. Définir une fonction `divise` telle que `divise a b` renvoie `true` si  `a` divise `b`, `false` sinon. Il est interdit d'utiliser `if`.\n",
    "1. Définir une fonction récursive `somme` telle que `somme n` renvoie $\\sum_{k=1}^n k^2$.\n",
    "2. Définir une fonction récursive `u` telle que `u n` renvoie $u_n$ définie par :\n",
    "$$u_0 = 42$$\n",
    "$$u_{n} = 3\\sqrt{u_{n - 1}} + u_{n-2}$$\n",
    "3. Soient $a$ et $b$ deux entiers et $q, r$ le quotient et reste de la division euclidienne de $a$ par $b$ ($a = bq + r$). En utilisant le fait que $PGCD(a, b)$ = $PGCD(b, r)$, écrire une fonction `euclide` telle que `euclide a b` renvoie le PGCD de $a$ et $b$."
   ]
  },
  {
   "cell_type": "code",
   "execution_count": 1,
   "id": "28b3787c-2d79-422a-a4fa-31ece3da9be3",
   "metadata": {},
   "outputs": [
    {
     "data": {
      "text/plain": [
       "- : bool = true\n"
      ]
     },
     "execution_count": 1,
     "metadata": {},
     "output_type": "execute_result"
    }
   ],
   "source": [
    "(* Ex 1 *)\n",
    "let divise a b =\n",
    "    (b / a)*a = b\n",
    "in\n",
    "divise 3 9"
   ]
  },
  {
   "cell_type": "code",
   "execution_count": 2,
   "id": "341c58dd-d6d6-4bc7-92d9-11ce46f4ee15",
   "metadata": {},
   "outputs": [
    {
     "data": {
      "text/plain": [
       "- : int = 5\n"
      ]
     },
     "execution_count": 2,
     "metadata": {},
     "output_type": "execute_result"
    }
   ],
   "source": [
    "(* Ex 2 *)\n",
    "let rec somme_sq n =\n",
    "    if n = 1 then n\n",
    "    else n*n+(somme_sq (n-1))\n",
    "in\n",
    "somme_sq 2"
   ]
  },
  {
   "cell_type": "code",
   "execution_count": 3,
   "id": "2ba83d27-ce1a-4831-9fb3-b148a6385eab",
   "metadata": {},
   "outputs": [
    {
     "data": {
      "text/plain": [
       "- : float = 13.9593276159321622\n"
      ]
     },
     "execution_count": 3,
     "metadata": {},
     "output_type": "execute_result"
    }
   ],
   "source": [
    "(*Ex 3*)\n",
    "let rec u n =\n",
    "    if n = 0 then 42.\n",
    "    else 3. *. (u (n-1))**0.5 +. 2.\n",
    "in\n",
    "u 3"
   ]
  },
  {
   "cell_type": "code",
   "execution_count": 4,
   "id": "a06e5bf2-0550-47ed-944c-1ed8950d23e0",
   "metadata": {},
   "outputs": [
    {
     "data": {
      "text/plain": [
       "- : int = 22\n"
      ]
     },
     "execution_count": 4,
     "metadata": {},
     "output_type": "execute_result"
    }
   ],
   "source": [
    "(* Ex 4 *)\n",
    "let rec euclide a b = \n",
    "    if b = 0 then a\n",
    "    else \n",
    "    let r = a mod b in\n",
    "    euclide b r\n",
    "in\n",
    "euclide 44 22"
   ]
  },
  {
   "cell_type": "markdown",
   "id": "8bc4824c",
   "metadata": {},
   "source": [
    "## Exponentiation rapide\n",
    "\n",
    "1. Écrire une fonction récursive `puissance` naïve (c'est à dire très simple) telle que `puissance a n` renvoie $a^n$. Combien effectue t-elle de multiplications (en fonction de n) ?\n",
    "2. Écrire une fonction récursive `exp_rapide` pour calculer $a^n$, en utilisant les relations suivantes :\n",
    "$$ \n",
    "\\begin{cases} \n",
    "a^n = (a^{\\frac{n}{2}})^2 ~~~~~~~~~\\text{si }n\\text{ est pair}\\\\\n",
    "a^{n} = a \\times (a^{\\frac{n-1}{2}})^2 ~~~~~\\text{sinon}\n",
    "\\end{cases}\n",
    "$$\n",
    "**Remarque** : On montrera plus tard que cette 2ème version demande environ $\\ln(n)$ multiplications seulement."
   ]
  },
  {
   "cell_type": "code",
   "execution_count": 5,
   "id": "3ce748de-1f72-41fe-a8de-a0c5a08b3065",
   "metadata": {},
   "outputs": [
    {
     "data": {
      "text/plain": [
       "val puissance_nai_entier : int -> int -> int = <fun>\n"
      ]
     },
     "execution_count": 5,
     "metadata": {},
     "output_type": "execute_result"
    },
    {
     "data": {
      "text/plain": [
       "- : int = 8\n"
      ]
     },
     "execution_count": 5,
     "metadata": {},
     "output_type": "execute_result"
    }
   ],
   "source": [
    "let rec puissance_nai_entier a n =\n",
    "    if n = 0 then 1\n",
    "    else a*puissance_nai_entier a (n-1)\n",
    ";;\n",
    "puissance_nai_entier 2 3"
   ]
  },
  {
   "cell_type": "code",
   "execution_count": 6,
   "id": "18433d3c-8dca-4a96-9bb7-b05804d17b50",
   "metadata": {},
   "outputs": [
    {
     "data": {
      "text/plain": [
       "- : int = 1048576\n"
      ]
     },
     "execution_count": 6,
     "metadata": {},
     "output_type": "execute_result"
    }
   ],
   "source": [
    "let rec puissance_entier a n =\n",
    "    if n = 1 then a \n",
    "    else if n mod 2 = 0 \n",
    "        then puissance_nai_entier (puissance_entier a (n/2)) 2\n",
    "        else a*puissance_nai_entier (puissance_entier a ((n-1)/2)) 2\n",
    "in\n",
    "puissance_entier 2 20\n"
   ]
  },
  {
   "cell_type": "markdown",
   "id": "9083ab42-6648-479b-85b4-ee64bdb19f26",
   "metadata": {
    "tags": []
   },
   "source": [
    "# Accumulateur\n",
    "\n",
    "On a vu dans le cours sur la récursivité (avec l'exemple de la suite de Fibonacci) qu'un accumulateur est un argument que l'on ajoute à une fonction pour calculer sa valeur de retour.  \n",
    "1. Écrire une fonction `fact` telle que `fact acc n` renvoie `n`!, en utilisant `acc` comme accumulateur. Voici à quoi va ressemble `fact` :\n",
    "```ocaml\n",
    "let rec fact acc n =\n",
    "    if n = 0 then acc  (* on renvoie l'accumulateur qui contient le résultat *)\n",
    "    else fact ... (* appel récursif en modifiant l'accumulateur *)\n",
    "```\n",
    "2. En utilisant `fact` et l'application partielle de fonction, définir `f : int -> int` renvoyant la factoielle d'un entier.\n",
    "\n",
    "**Remarque** : le but ici est juste de vous entraîner à savoir utiliser un accumulateur, qui sont parfois utiles (comme pour la fonction `fibo` du cours). En DS ou concours on évitera d'utiliser un accumulateur lorsqu'il y en a pas besoin (comme pour la fonction `fact`...), car cela rend le code plus compliqué.  "
   ]
  },
  {
   "cell_type": "code",
   "execution_count": 7,
   "id": "0533e6a0-0137-4c79-ac25-05633f01b212",
   "metadata": {},
   "outputs": [
    {
     "data": {
      "text/plain": [
       "- : int = 24\n"
      ]
     },
     "execution_count": 7,
     "metadata": {},
     "output_type": "execute_result"
    }
   ],
   "source": [
    "(*Ex 1 *)\n",
    "let rec fact acc n =\n",
    "    if n=0 then acc\n",
    "    else (fact (acc*n) (n-1))\n",
    "in\n",
    "fact 1 4"
   ]
  },
  {
   "cell_type": "code",
   "execution_count": 8,
   "id": "3b10dae7-3fbe-43c3-a4b8-bc5ba215128d",
   "metadata": {},
   "outputs": [
    {
     "data": {
      "text/plain": [
       "val fact2 : int -> int = <fun>\n"
      ]
     },
     "execution_count": 8,
     "metadata": {},
     "output_type": "execute_result"
    }
   ],
   "source": [
    "(*Ex 2 *)\n",
    "let rec fact2 n =\n",
    "    if n=0 then 1\n",
    "    else n*fact2 (n-1)\n",
    ";;"
   ]
  },
  {
   "cell_type": "markdown",
   "id": "593103dc",
   "metadata": {},
   "source": [
    "## Temps de vol de la suite de Syracuse\n",
    "\n",
    "La suite de Syracuse d'un entier $a$ est définie par :  \n",
    "$$u_0 = a$$\n",
    "$$u_{n+1} =\n",
    "\\begin{cases} \n",
    "     \\frac{u_n}{2}, \\text{si } n \\text{ est pair}\\\\\n",
    "    3u_n + 1, \\text{sinon}\\\\\n",
    "\\end{cases}$$\n",
    "\n",
    "Le temps de vol de $(u_n)_n$ est le plus petit entier $t$ tel que $u_t = 1$.  \n",
    "\n",
    "1. Écrire une fonction récursive `temps_vol` telle que `temps_vol a` renvoie le temps de vol de $(u_n)_n$ (où $u_0 = a$)."
   ]
  },
  {
   "cell_type": "code",
   "execution_count": 9,
   "id": "81bd98fb-23db-4c1f-a0ce-44b6435667ae",
   "metadata": {},
   "outputs": [
    {
     "data": {
      "text/plain": [
       "- : int = 3\n"
      ]
     },
     "execution_count": 9,
     "metadata": {},
     "output_type": "execute_result"
    }
   ],
   "source": [
    "let rec temps_vol a =\n",
    "    if a = 1 then 0\n",
    "    else if a mod 2 = 0\n",
    "    then 1+temps_vol (a/2)\n",
    "    else 1+temps_vol (a*3+1)\n",
    "in\n",
    "temps_vol 8"
   ]
  },
  {
   "cell_type": "markdown",
   "id": "7414648c-365d-43c1-b626-13e5e989969d",
   "metadata": {},
   "source": [
    "## Retour sur les tours de Hanoi\n",
    "\n",
    "**Remarque** : le problème des tours de Hanoi a déjà été vu en stage, mais on le refait ici en OCaml. En outre, il est utile de réactiver sa mémoire pour se souvenir des méthodes et il m'arrivera pendant l'année de redonner des exercices déjà posés."
   ]
  },
  {
   "cell_type": "markdown",
   "id": "a7f7111a-81c7-4600-bce4-7915bed9965b",
   "metadata": {},
   "source": [
    "![](../img/hanoi.png)\n",
    "\n",
    "$n$ disques sont posés sur la tige à gauche. L'objectif est de déplacer tous les disques sur la tige à droite :\n",
    "\n",
    "![](../img/hanoi2.png)\n",
    "\n",
    "Règles du jeu :\n",
    "\n",
    "- On ne peut déplacer qu'un disque à la fois (celui tout en haut), sur une autre tige.\n",
    "- Il est interdit de poser un disque sur un autre plus petit.\n",
    "\n",
    "Exemple de premier déplacement valide :\n",
    "\n",
    "![](../img/hanoi3.png)\n",
    "\n",
    "On souhaite écrire une fonction récursive `hanoi` telle que `hanoi n tige1 tige2` affiche une suite de déplacements (avec des `print_int`) permettant de déplacer $n$ disques depuis `tige1` vers `tige2`. On supposera que les tiges sont numérotées 0, 1, 2 (de gauche à droite).\n",
    "\n",
    "1. Supposons que vous sachiez déplacer $n-1$ disques d'une tige à une autre. Comment déplacer $n$ disques d'une tige à une autre ?\n",
    "2. Écrire `hanoi`."
   ]
  },
  {
   "cell_type": "code",
   "execution_count": 39,
   "id": "a8f1d76a-2abd-4664-a1cb-bf5d2270fb02",
   "metadata": {},
   "outputs": [
    {
     "ename": "error",
     "evalue": "compile_error",
     "output_type": "error",
     "traceback": [
      "File \"[39]\", line 9, characters 4-8:\n9 |     else if tige_but = 2 (*Je ne sais pas ce qui provoque l'erreur*)\n        ^^^^\nError: Syntax error\n"
     ]
    }
   ],
   "source": [
    "(*Exercice 1*)\n",
    "(* On souhaiterait déplacer les n-1 disques sur la tige 1, déplacer le n-nième disque sur la tige 2, puis déplacer n-1 disque sur la tige 2 *)\n",
    "(*Exercice 2*)\n",
    "let rec hanoi n tige_origine tige_but =\n",
    "    if n = 1 (*ici on fait le cas pour 1 un seul disque*)\n",
    "    then \n",
    "        print_int tige_origine;\n",
    "        print_int tige_but\n",
    "    else if tige_but = 2 (*Je ne sais pas ce qui provoque l'erreur*)\n",
    "    then (*ici on cherche à ammener les n disques à la tige 1*)\n",
    "        hanoi (n-1) tige_origine (tige_but-1);\n",
    "        print_int tige_origine;\n",
    "        print_int tige_but;\n",
    "        hanoi (n-1) (tige_but-1) tige_but\n",
    "    else (*si on cherche à ammener les n disques à la tiges 1, alors on ammènera d'abord les n-1 disques à la tige 2*)\n",
    "        hanoi (n-1) tige_origine (tige_but+1);\n",
    "        print_int tige_origine;\n",
    "        print_int tige_but;\n",
    "        hanoi (n-1) (tige_but+1) tige_but\n",
    "in\n",
    "hanoi 3 0 2;"
   ]
  },
  {
   "cell_type": "code",
   "execution_count": null,
   "id": "bcbcf95b-fa91-4488-9e0a-4af30b4667e9",
   "metadata": {},
   "outputs": [],
   "source": []
  }
 ],
 "metadata": {
  "kernelspec": {
   "display_name": "OCaml default",
   "language": "OCaml",
   "name": "ocaml-jupyter"
  },
  "language_info": {
   "codemirror_mode": "text/x-ocaml",
   "file_extension": ".ml",
   "mimetype": "text/x-ocaml",
   "name": "OCaml",
   "nbconverter_exporter": null,
   "pygments_lexer": "OCaml",
   "version": "4.08.1"
  }
 },
 "nbformat": 4,
 "nbformat_minor": 5
}
